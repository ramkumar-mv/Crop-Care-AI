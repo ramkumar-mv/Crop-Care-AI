{
 "cells": [
  {
   "cell_type": "code",
   "execution_count": 1,
   "metadata": {
    "execution": {
     "iopub.execute_input": "2022-01-19T05:43:01.988303Z",
     "iopub.status.busy": "2022-01-19T05:43:01.987258Z",
     "iopub.status.idle": "2022-01-19T05:43:03.198329Z",
     "shell.execute_reply": "2022-01-19T05:43:03.197591Z"
    },
    "papermill": {
     "duration": 1.249177,
     "end_time": "2022-01-19T05:43:03.198482",
     "exception": false,
     "start_time": "2022-01-19T05:43:01.949305",
     "status": "completed"
    },
    "tags": []
   },
   "outputs": [],
   "source": [
    "# Importing libraries\n",
    "\n",
    "from __future__ import print_function\n",
    "import pandas as pd\n",
    "import numpy as np\n",
    "import matplotlib.pyplot as plt\n",
    "import seaborn as sns\n",
    "from sklearn.metrics import classification_report\n",
    "from sklearn import metrics\n",
    "from sklearn import tree\n",
    "import warnings\n",
    "warnings.filterwarnings('ignore')"
   ]
  },
  {
   "cell_type": "code",
   "execution_count": 2,
   "metadata": {},
   "outputs": [
    {
     "name": "stdout",
     "output_type": "stream",
     "text": [
      "               N          P          K  temperature   humidity        ph  \\\n",
      "0     121.742817  30.261217  33.509022    29.925657  81.501103  6.879905   \n",
      "1     109.926286  64.473327  39.555274    28.899599  64.090948  6.614587   \n",
      "2     115.082970  26.089995  31.001011    27.590114  65.981712  7.403845   \n",
      "3     123.011392  60.003712  41.605373    30.019175  64.135508  6.509898   \n",
      "4      43.283661  34.740836  31.564029    26.957607  76.678354  6.958624   \n",
      "...          ...        ...        ...          ...        ...       ...   \n",
      "8995   52.061246  34.080224  39.831338    23.584823  70.587832  7.769822   \n",
      "8996  123.782385  62.683018  42.141210    23.508616  67.102606  6.090802   \n",
      "8997  115.938065  29.378611  31.544458    28.963913  90.306277  7.701912   \n",
      "8998   57.118794  31.588811  34.382253    27.942807  67.217229  6.640572   \n",
      "8999  128.894898  28.360026  25.673354    32.669387  95.275986  6.563847   \n",
      "\n",
      "        rainfall   label  \n",
      "0     258.970493    rice  \n",
      "1     207.128342   maize  \n",
      "2     287.830843    rice  \n",
      "3     225.722741   maize  \n",
      "4     170.839848  cotton  \n",
      "...          ...     ...  \n",
      "8995  169.217587  cotton  \n",
      "8996  233.846842   maize  \n",
      "8997  255.091703    rice  \n",
      "8998  140.673793  cotton  \n",
      "8999  244.115435    rice  \n",
      "\n",
      "[9000 rows x 8 columns]\n"
     ]
    }
   ],
   "source": [
    "import pandas as pd\n",
    "import numpy as np\n",
    "average_values = {\n",
    "    'rice': {'N': 120, 'P': 30, 'K': 30, 'temperature': 29, 'humidity': 80, 'ph': 7, 'rainfall': 250},\n",
    "    'maize': {'N': 120, 'P': 60, 'K': 40, 'temperature': 28, 'humidity': 60, 'ph': 6.5, 'rainfall': 200},\n",
    "    'cotton': {'N': 50, 'P': 30, 'K': 35, 'temperature': 27, 'humidity': 70, 'ph': 7, 'rainfall': 150}\n",
    "}\n",
    "data = []\n",
    "for label, values in average_values.items():\n",
    "    for _ in range(3000):\n",
    "        entry = {feature: np.random.normal(value, value * 0.1) for feature, value in values.items()}\n",
    "        entry['label'] = label\n",
    "        data.append(entry)\n",
    "custom_dataset = pd.DataFrame(data)\n",
    "custom_dataset = custom_dataset.sample(frac=1).reset_index(drop=True)\n",
    "print(custom_dataset)"
   ]
  },
  {
   "cell_type": "code",
   "execution_count": 3,
   "metadata": {},
   "outputs": [
    {
     "name": "stdout",
     "output_type": "stream",
     "text": [
      "DataFrame saved to south_dataset.csv\n"
     ]
    }
   ],
   "source": [
    "df = pd.DataFrame(data)\n",
    "\n",
    "# Shuffle the DataFrame (optional)\n",
    "df = df.sample(frac=1).reset_index(drop=True)\n",
    "\n",
    "# Save the DataFrame to a CSV file\n",
    "df.to_csv('south_dataset.csv', index=False)\n",
    "\n",
    "print(\"DataFrame saved to south_dataset.csv\")"
   ]
  },
  {
   "cell_type": "code",
   "execution_count": 4,
   "metadata": {},
   "outputs": [
    {
     "data": {
      "text/plain": [
       "72000"
      ]
     },
     "execution_count": 4,
     "metadata": {},
     "output_type": "execute_result"
    }
   ],
   "source": [
    "custom_dataset.size"
   ]
  },
  {
   "cell_type": "code",
   "execution_count": 5,
   "metadata": {
    "execution": {
     "iopub.execute_input": "2022-01-19T05:43:03.366922Z",
     "iopub.status.busy": "2022-01-19T05:43:03.366259Z",
     "iopub.status.idle": "2022-01-19T05:43:03.389191Z",
     "shell.execute_reply": "2022-01-19T05:43:03.389821Z"
    },
    "papermill": {
     "duration": 0.059447,
     "end_time": "2022-01-19T05:43:03.389961",
     "exception": false,
     "start_time": "2022-01-19T05:43:03.330514",
     "status": "completed"
    },
    "tags": []
   },
   "outputs": [
    {
     "data": {
      "text/plain": [
       "N              164.971215\n",
       "P               81.554259\n",
       "K               52.194935\n",
       "temperature     39.056024\n",
       "humidity        102.89364\n",
       "ph               9.848462\n",
       "rainfall       329.665152\n",
       "label                rice\n",
       "dtype: object"
      ]
     },
     "execution_count": 5,
     "metadata": {},
     "output_type": "execute_result"
    }
   ],
   "source": [
    "custom_dataset.max()"
   ]
  },
  {
   "cell_type": "code",
   "execution_count": 6,
   "metadata": {},
   "outputs": [
    {
     "name": "stdout",
     "output_type": "stream",
     "text": [
      "               N          P          K  temperature   humidity        ph  \\\n",
      "0     121.742817  30.261217  33.509022    29.925657  81.501103  6.879905   \n",
      "1     109.926286  64.473327  39.555274    28.899599  64.090948  6.614587   \n",
      "2     115.082970  26.089995  31.001011    27.590114  65.981712  7.403845   \n",
      "3     123.011392  60.003712  41.605373    30.019175  64.135508  6.509898   \n",
      "4      43.283661  34.740836  31.564029    26.957607  76.678354  6.958624   \n",
      "...          ...        ...        ...          ...        ...       ...   \n",
      "8995   52.061246  34.080224  39.831338    23.584823  70.587832  7.769822   \n",
      "8996  123.782385  62.683018  42.141210    23.508616  67.102606  6.090802   \n",
      "8997  115.938065  29.378611  31.544458    28.963913  90.306277  7.701912   \n",
      "8998   57.118794  31.588811  34.382253    27.942807  67.217229  6.640572   \n",
      "8999  128.894898  28.360026  25.673354    32.669387  95.275986  6.563847   \n",
      "\n",
      "        rainfall   label  \n",
      "0     258.970493    rice  \n",
      "1     207.128342   maize  \n",
      "2     287.830843    rice  \n",
      "3     225.722741   maize  \n",
      "4     170.839848  cotton  \n",
      "...          ...     ...  \n",
      "8995  169.217587  cotton  \n",
      "8996  233.846842   maize  \n",
      "8997  255.091703    rice  \n",
      "8998  140.673793  cotton  \n",
      "8999  244.115435    rice  \n",
      "\n",
      "[9000 rows x 8 columns]\n"
     ]
    }
   ],
   "source": [
    "new_df = custom_dataset[custom_dataset['label'].isin(['cotton', 'rice', 'maize'])]\n",
    "new_df.reset_index(drop=True, inplace=True)\n",
    "print(new_df)"
   ]
  },
  {
   "cell_type": "code",
   "execution_count": 7,
   "metadata": {
    "execution": {
     "iopub.execute_input": "2022-01-19T05:43:03.462532Z",
     "iopub.status.busy": "2022-01-19T05:43:03.461867Z",
     "iopub.status.idle": "2022-01-19T05:43:03.473829Z",
     "shell.execute_reply": "2022-01-19T05:43:03.474455Z"
    },
    "papermill": {
     "duration": 0.049557,
     "end_time": "2022-01-19T05:43:03.474596",
     "exception": false,
     "start_time": "2022-01-19T05:43:03.425039",
     "status": "completed"
    },
    "tags": []
   },
   "outputs": [
    {
     "data": {
      "text/plain": [
       "N              164.971215\n",
       "P               81.554259\n",
       "K               52.194935\n",
       "temperature     39.056024\n",
       "humidity        102.89364\n",
       "ph               9.848462\n",
       "rainfall       329.665152\n",
       "label                rice\n",
       "dtype: object"
      ]
     },
     "execution_count": 7,
     "metadata": {},
     "output_type": "execute_result"
    }
   ],
   "source": [
    "new_df.max()"
   ]
  },
  {
   "cell_type": "code",
   "execution_count": 8,
   "metadata": {
    "execution": {
     "iopub.execute_input": "2022-01-19T05:43:03.549223Z",
     "iopub.status.busy": "2022-01-19T05:43:03.548570Z",
     "iopub.status.idle": "2022-01-19T05:43:03.551254Z",
     "shell.execute_reply": "2022-01-19T05:43:03.551808Z"
    },
    "papermill": {
     "duration": 0.042772,
     "end_time": "2022-01-19T05:43:03.551959",
     "exception": false,
     "start_time": "2022-01-19T05:43:03.509187",
     "status": "completed"
    },
    "tags": []
   },
   "outputs": [
    {
     "data": {
      "text/plain": [
       "72000"
      ]
     },
     "execution_count": 8,
     "metadata": {},
     "output_type": "execute_result"
    }
   ],
   "source": [
    "new_df.size"
   ]
  },
  {
   "cell_type": "code",
   "execution_count": 9,
   "metadata": {
    "execution": {
     "iopub.execute_input": "2022-01-19T05:43:03.625424Z",
     "iopub.status.busy": "2022-01-19T05:43:03.624773Z",
     "iopub.status.idle": "2022-01-19T05:43:03.629241Z",
     "shell.execute_reply": "2022-01-19T05:43:03.629747Z"
    },
    "papermill": {
     "duration": 0.042647,
     "end_time": "2022-01-19T05:43:03.629889",
     "exception": false,
     "start_time": "2022-01-19T05:43:03.587242",
     "status": "completed"
    },
    "tags": []
   },
   "outputs": [
    {
     "data": {
      "text/plain": [
       "(9000, 8)"
      ]
     },
     "execution_count": 9,
     "metadata": {},
     "output_type": "execute_result"
    }
   ],
   "source": [
    "new_df.shape"
   ]
  },
  {
   "cell_type": "code",
   "execution_count": 10,
   "metadata": {
    "execution": {
     "iopub.execute_input": "2022-01-19T05:43:03.706951Z",
     "iopub.status.busy": "2022-01-19T05:43:03.706277Z",
     "iopub.status.idle": "2022-01-19T05:43:03.710946Z",
     "shell.execute_reply": "2022-01-19T05:43:03.711421Z"
    },
    "papermill": {
     "duration": 0.045695,
     "end_time": "2022-01-19T05:43:03.711566",
     "exception": false,
     "start_time": "2022-01-19T05:43:03.665871",
     "status": "completed"
    },
    "tags": []
   },
   "outputs": [
    {
     "data": {
      "text/plain": [
       "Index(['N', 'P', 'K', 'temperature', 'humidity', 'ph', 'rainfall', 'label'], dtype='object')"
      ]
     },
     "execution_count": 10,
     "metadata": {},
     "output_type": "execute_result"
    }
   ],
   "source": [
    "new_df.columns"
   ]
  },
  {
   "cell_type": "code",
   "execution_count": 11,
   "metadata": {
    "execution": {
     "iopub.execute_input": "2022-01-19T05:43:03.790748Z",
     "iopub.status.busy": "2022-01-19T05:43:03.789984Z",
     "iopub.status.idle": "2022-01-19T05:43:03.793022Z",
     "shell.execute_reply": "2022-01-19T05:43:03.793556Z"
    },
    "papermill": {
     "duration": 0.045836,
     "end_time": "2022-01-19T05:43:03.793698",
     "exception": false,
     "start_time": "2022-01-19T05:43:03.747862",
     "status": "completed"
    },
    "tags": []
   },
   "outputs": [
    {
     "data": {
      "text/plain": [
       "array(['rice', 'maize', 'cotton'], dtype=object)"
      ]
     },
     "execution_count": 11,
     "metadata": {},
     "output_type": "execute_result"
    }
   ],
   "source": [
    "new_df['label'].unique()"
   ]
  },
  {
   "cell_type": "code",
   "execution_count": 12,
   "metadata": {
    "execution": {
     "iopub.execute_input": "2022-01-19T05:43:03.885417Z",
     "iopub.status.busy": "2022-01-19T05:43:03.884415Z",
     "iopub.status.idle": "2022-01-19T05:43:03.889950Z",
     "shell.execute_reply": "2022-01-19T05:43:03.891023Z"
    },
    "papermill": {
     "duration": 0.058842,
     "end_time": "2022-01-19T05:43:03.891178",
     "exception": false,
     "start_time": "2022-01-19T05:43:03.832336",
     "status": "completed"
    },
    "tags": []
   },
   "outputs": [
    {
     "data": {
      "text/plain": [
       "N              float64\n",
       "P              float64\n",
       "K              float64\n",
       "temperature    float64\n",
       "humidity       float64\n",
       "ph             float64\n",
       "rainfall       float64\n",
       "label           object\n",
       "dtype: object"
      ]
     },
     "execution_count": 12,
     "metadata": {},
     "output_type": "execute_result"
    }
   ],
   "source": [
    "new_df.dtypes"
   ]
  },
  {
   "cell_type": "code",
   "execution_count": 13,
   "metadata": {
    "execution": {
     "iopub.execute_input": "2022-01-19T05:43:03.975256Z",
     "iopub.status.busy": "2022-01-19T05:43:03.974231Z",
     "iopub.status.idle": "2022-01-19T05:43:03.980696Z",
     "shell.execute_reply": "2022-01-19T05:43:03.981294Z"
    },
    "papermill": {
     "duration": 0.050705,
     "end_time": "2022-01-19T05:43:03.981448",
     "exception": false,
     "start_time": "2022-01-19T05:43:03.930743",
     "status": "completed"
    },
    "tags": []
   },
   "outputs": [
    {
     "data": {
      "text/plain": [
       "rice      3000\n",
       "maize     3000\n",
       "cotton    3000\n",
       "Name: label, dtype: int64"
      ]
     },
     "execution_count": 13,
     "metadata": {},
     "output_type": "execute_result"
    }
   ],
   "source": [
    "new_df['label'].value_counts()"
   ]
  },
  {
   "cell_type": "code",
   "execution_count": 14,
   "metadata": {
    "execution": {
     "iopub.execute_input": "2022-01-19T05:43:04.072215Z",
     "iopub.status.busy": "2022-01-19T05:43:04.071533Z",
     "iopub.status.idle": "2022-01-19T05:43:04.546770Z",
     "shell.execute_reply": "2022-01-19T05:43:04.547313Z"
    },
    "papermill": {
     "duration": 0.52399,
     "end_time": "2022-01-19T05:43:04.547478",
     "exception": false,
     "start_time": "2022-01-19T05:43:04.023488",
     "status": "completed"
    },
    "tags": []
   },
   "outputs": [
    {
     "data": {
      "text/plain": [
       "<AxesSubplot: >"
      ]
     },
     "execution_count": 14,
     "metadata": {},
     "output_type": "execute_result"
    },
    {
     "data": {
      "image/png": "[encoded data removed]",
      "text/plain": [
       "<Figure size 640x480 with 2 Axes>"
      ]
     },
     "metadata": {},
     "output_type": "display_data"
    }
   ],
   "source": [
    "sns.heatmap(new_df.corr(),annot=True)"
   ]
  },
  {
   "cell_type": "markdown",
   "metadata": {
    "papermill": {
     "duration": 0.039153,
     "end_time": "2022-01-19T05:43:04.626871",
     "exception": false,
     "start_time": "2022-01-19T05:43:04.587718",
     "status": "completed"
    },
    "tags": []
   },
   "source": [
    "### Seperating features and target label"
   ]
  },
  {
   "cell_type": "code",
   "execution_count": 15,
   "metadata": {},
   "outputs": [],
   "source": [
    "df = new_df"
   ]
  },
  {
   "cell_type": "code",
   "execution_count": 16,
   "metadata": {
    "execution": {
     "iopub.execute_input": "2022-01-19T05:43:04.711476Z",
     "iopub.status.busy": "2022-01-19T05:43:04.710837Z",
     "iopub.status.idle": "2022-01-19T05:43:04.716667Z",
     "shell.execute_reply": "2022-01-19T05:43:04.717198Z"
    },
    "papermill": {
     "duration": 0.049985,
     "end_time": "2022-01-19T05:43:04.717341",
     "exception": false,
     "start_time": "2022-01-19T05:43:04.667356",
     "status": "completed"
    },
    "tags": []
   },
   "outputs": [],
   "source": [
    "features = df[['N', 'P','K','temperature', 'humidity', 'ph', 'rainfall']]\n",
    "target = df['label']\n",
    "labels = df['label']"
   ]
  },
  {
   "cell_type": "code",
   "execution_count": 17,
   "metadata": {
    "execution": {
     "iopub.execute_input": "2022-01-19T05:43:04.800353Z",
     "iopub.status.busy": "2022-01-19T05:43:04.799714Z",
     "iopub.status.idle": "2022-01-19T05:43:04.803063Z",
     "shell.execute_reply": "2022-01-19T05:43:04.803702Z"
    },
    "papermill": {
     "duration": 0.046447,
     "end_time": "2022-01-19T05:43:04.803839",
     "exception": false,
     "start_time": "2022-01-19T05:43:04.757392",
     "status": "completed"
    },
    "tags": []
   },
   "outputs": [],
   "source": [
    "# Initializing empty lists to append all model's name and corresponding name\n",
    "acc = []\n",
    "model = []"
   ]
  },
  {
   "cell_type": "code",
   "execution_count": 18,
   "metadata": {
    "execution": {
     "iopub.execute_input": "2022-01-19T05:43:04.887640Z",
     "iopub.status.busy": "2022-01-19T05:43:04.887024Z",
     "iopub.status.idle": "2022-01-19T05:43:04.895733Z",
     "shell.execute_reply": "2022-01-19T05:43:04.896261Z"
    },
    "papermill": {
     "duration": 0.0525,
     "end_time": "2022-01-19T05:43:04.896431",
     "exception": false,
     "start_time": "2022-01-19T05:43:04.843931",
     "status": "completed"
    },
    "tags": []
   },
   "outputs": [],
   "source": [
    "# Splitting into train and test data\n",
    "\n",
    "from sklearn.model_selection import train_test_split\n",
    "Xtrain, Xtest, Ytrain, Ytest = train_test_split(features,target,test_size = 0.2,random_state =2)"
   ]
  },
  {
   "cell_type": "code",
   "execution_count": 19,
   "metadata": {},
   "outputs": [
    {
     "data": {
      "text/plain": [
       "(50400, 12600)"
      ]
     },
     "execution_count": 19,
     "metadata": {},
     "output_type": "execute_result"
    }
   ],
   "source": [
    "Xtrain.size, Xtest.size"
   ]
  },
  {
   "cell_type": "markdown",
   "metadata": {
    "papermill": {
     "duration": 0.039474,
     "end_time": "2022-01-19T05:43:04.975940",
     "exception": false,
     "start_time": "2022-01-19T05:43:04.936466",
     "status": "completed"
    },
    "tags": []
   },
   "source": [
    "# Decision Tree"
   ]
  },
  {
   "cell_type": "code",
   "execution_count": 20,
   "metadata": {
    "execution": {
     "iopub.execute_input": "2022-01-19T05:43:05.068239Z",
     "iopub.status.busy": "2022-01-19T05:43:05.067596Z",
     "iopub.status.idle": "2022-01-19T05:43:05.124928Z",
     "shell.execute_reply": "2022-01-19T05:43:05.124305Z"
    },
    "papermill": {
     "duration": 0.107583,
     "end_time": "2022-01-19T05:43:05.125047",
     "exception": false,
     "start_time": "2022-01-19T05:43:05.017464",
     "status": "completed"
    },
    "tags": []
   },
   "outputs": [
    {
     "name": "stdout",
     "output_type": "stream",
     "text": [
      "DecisionTrees's Accuracy is:  100.0\n",
      "              precision    recall  f1-score   support\n",
      "\n",
      "      cotton       1.00      1.00      1.00       607\n",
      "       maize       1.00      1.00      1.00       604\n",
      "        rice       1.00      1.00      1.00       589\n",
      "\n",
      "    accuracy                           1.00      1800\n",
      "   macro avg       1.00      1.00      1.00      1800\n",
      "weighted avg       1.00      1.00      1.00      1800\n",
      "\n"
     ]
    }
   ],
   "source": [
    "from sklearn.tree import DecisionTreeClassifier\n",
    "\n",
    "DecisionTree = DecisionTreeClassifier(criterion=\"entropy\",random_state=2,max_depth=5)\n",
    "\n",
    "DecisionTree.fit(Xtrain,Ytrain)\n",
    "\n",
    "predicted_values = DecisionTree.predict(Xtest)\n",
    "x = metrics.accuracy_score(Ytest, predicted_values)\n",
    "acc.append(x)\n",
    "model.append('Decision Tree')\n",
    "print(\"DecisionTrees's Accuracy is: \", x*100)\n",
    "\n",
    "print(classification_report(Ytest,predicted_values))"
   ]
  },
  {
   "cell_type": "code",
   "execution_count": 21,
   "metadata": {
    "execution": {
     "iopub.execute_input": "2022-01-19T05:43:05.210871Z",
     "iopub.status.busy": "2022-01-19T05:43:05.210173Z",
     "iopub.status.idle": "2022-01-19T05:43:05.213210Z",
     "shell.execute_reply": "2022-01-19T05:43:05.212618Z"
    },
    "papermill": {
     "duration": 0.047814,
     "end_time": "2022-01-19T05:43:05.213339",
     "exception": false,
     "start_time": "2022-01-19T05:43:05.165525",
     "status": "completed"
    },
    "tags": []
   },
   "outputs": [],
   "source": [
    "from sklearn.model_selection import cross_val_score"
   ]
  },
  {
   "cell_type": "code",
   "execution_count": 22,
   "metadata": {
    "execution": {
     "iopub.execute_input": "2022-01-19T05:43:05.298456Z",
     "iopub.status.busy": "2022-01-19T05:43:05.297795Z",
     "iopub.status.idle": "2022-01-19T05:43:05.456864Z",
     "shell.execute_reply": "2022-01-19T05:43:05.456278Z"
    },
    "papermill": {
     "duration": 0.202782,
     "end_time": "2022-01-19T05:43:05.456995",
     "exception": false,
     "start_time": "2022-01-19T05:43:05.254213",
     "status": "completed"
    },
    "tags": []
   },
   "outputs": [],
   "source": [
    "# Cross validation score (Decision Tree)\n",
    "score = cross_val_score(DecisionTree, features, target,cv=5)"
   ]
  },
  {
   "cell_type": "code",
   "execution_count": 23,
   "metadata": {
    "execution": {
     "iopub.execute_input": "2022-01-19T05:43:05.545867Z",
     "iopub.status.busy": "2022-01-19T05:43:05.545124Z",
     "iopub.status.idle": "2022-01-19T05:43:05.549090Z",
     "shell.execute_reply": "2022-01-19T05:43:05.548565Z"
    },
    "papermill": {
     "duration": 0.049706,
     "end_time": "2022-01-19T05:43:05.549201",
     "exception": false,
     "start_time": "2022-01-19T05:43:05.499495",
     "status": "completed"
    },
    "tags": []
   },
   "outputs": [
    {
     "data": {
      "text/plain": [
       "array([0.99944444, 1.        , 1.        , 0.99944444, 1.        ])"
      ]
     },
     "execution_count": 23,
     "metadata": {},
     "output_type": "execute_result"
    }
   ],
   "source": [
    "score"
   ]
  },
  {
   "cell_type": "markdown",
   "metadata": {
    "papermill": {
     "duration": 0.041656,
     "end_time": "2022-01-19T05:43:05.633034",
     "exception": false,
     "start_time": "2022-01-19T05:43:05.591378",
     "status": "completed"
    },
    "tags": []
   },
   "source": [
    "### Saving trained Decision Tree model"
   ]
  },
  {
   "cell_type": "code",
   "execution_count": 24,
   "metadata": {
    "execution": {
     "iopub.execute_input": "2022-01-19T05:43:05.719833Z",
     "iopub.status.busy": "2022-01-19T05:43:05.719107Z",
     "iopub.status.idle": "2022-01-19T05:43:05.724082Z",
     "shell.execute_reply": "2022-01-19T05:43:05.724645Z"
    },
    "papermill": {
     "duration": 0.050537,
     "end_time": "2022-01-19T05:43:05.724796",
     "exception": false,
     "start_time": "2022-01-19T05:43:05.674259",
     "status": "completed"
    },
    "tags": []
   },
   "outputs": [],
   "source": [
    "import pickle\n",
    "# Dump the trained Naive Bayes classifier with Pickle\n",
    "DT_pkl_filename = 'DecisionTree.pkl'\n",
    "# Open the file to save as pkl file\n",
    "DT_Model_pkl = open(DT_pkl_filename, 'wb')\n",
    "pickle.dump(DecisionTree, DT_Model_pkl)\n",
    "# Close the pickle instances\n",
    "DT_Model_pkl.close()"
   ]
  },
  {
   "cell_type": "markdown",
   "metadata": {
    "papermill": {
     "duration": 0.04115,
     "end_time": "2022-01-19T05:43:05.807761",
     "exception": false,
     "start_time": "2022-01-19T05:43:05.766611",
     "status": "completed"
    },
    "tags": []
   },
   "source": [
    "# Guassian Naive Bayes"
   ]
  },
  {
   "cell_type": "code",
   "execution_count": 25,
   "metadata": {
    "execution": {
     "iopub.execute_input": "2022-01-19T05:43:05.917742Z",
     "iopub.status.busy": "2022-01-19T05:43:05.916712Z",
     "iopub.status.idle": "2022-01-19T05:43:05.965350Z",
     "shell.execute_reply": "2022-01-19T05:43:05.966018Z"
    },
    "papermill": {
     "duration": 0.107743,
     "end_time": "2022-01-19T05:43:05.966167",
     "exception": false,
     "start_time": "2022-01-19T05:43:05.858424",
     "status": "completed"
    },
    "tags": []
   },
   "outputs": [
    {
     "name": "stdout",
     "output_type": "stream",
     "text": [
      "Naive Bayes's Accuracy is:  1.0\n",
      "              precision    recall  f1-score   support\n",
      "\n",
      "      cotton       1.00      1.00      1.00       607\n",
      "       maize       1.00      1.00      1.00       604\n",
      "        rice       1.00      1.00      1.00       589\n",
      "\n",
      "    accuracy                           1.00      1800\n",
      "   macro avg       1.00      1.00      1.00      1800\n",
      "weighted avg       1.00      1.00      1.00      1800\n",
      "\n"
     ]
    }
   ],
   "source": [
    "from sklearn.naive_bayes import GaussianNB\n",
    "\n",
    "NaiveBayes = GaussianNB()\n",
    "\n",
    "NaiveBayes.fit(Xtrain,Ytrain)\n",
    "\n",
    "predicted_values = NaiveBayes.predict(Xtest)\n",
    "x = metrics.accuracy_score(Ytest, predicted_values)\n",
    "acc.append(x)\n",
    "model.append('Naive Bayes')\n",
    "print(\"Naive Bayes's Accuracy is: \", x)\n",
    "\n",
    "print(classification_report(Ytest,predicted_values))"
   ]
  },
  {
   "cell_type": "code",
   "execution_count": 26,
   "metadata": {
    "execution": {
     "iopub.execute_input": "2022-01-19T05:43:06.057149Z",
     "iopub.status.busy": "2022-01-19T05:43:06.056101Z",
     "iopub.status.idle": "2022-01-19T05:43:06.139853Z",
     "shell.execute_reply": "2022-01-19T05:43:06.140342Z"
    },
    "papermill": {
     "duration": 0.130813,
     "end_time": "2022-01-19T05:43:06.140516",
     "exception": false,
     "start_time": "2022-01-19T05:43:06.009703",
     "status": "completed"
    },
    "tags": []
   },
   "outputs": [
    {
     "data": {
      "text/plain": [
       "array([1., 1., 1., 1., 1.])"
      ]
     },
     "execution_count": 26,
     "metadata": {},
     "output_type": "execute_result"
    }
   ],
   "source": [
    "# Cross validation score (NaiveBayes)\n",
    "score = cross_val_score(NaiveBayes,features,target,cv=5)\n",
    "score"
   ]
  },
  {
   "cell_type": "markdown",
   "metadata": {
    "papermill": {
     "duration": 0.044216,
     "end_time": "2022-01-19T05:43:06.228561",
     "exception": false,
     "start_time": "2022-01-19T05:43:06.184345",
     "status": "completed"
    },
    "tags": []
   },
   "source": [
    "### Saving trained Guassian Naive Bayes model"
   ]
  },
  {
   "cell_type": "code",
   "execution_count": 27,
   "metadata": {
    "execution": {
     "iopub.execute_input": "2022-01-19T05:43:06.317717Z",
     "iopub.status.busy": "2022-01-19T05:43:06.316731Z",
     "iopub.status.idle": "2022-01-19T05:43:06.322155Z",
     "shell.execute_reply": "2022-01-19T05:43:06.322709Z"
    },
    "papermill": {
     "duration": 0.051779,
     "end_time": "2022-01-19T05:43:06.322857",
     "exception": false,
     "start_time": "2022-01-19T05:43:06.271078",
     "status": "completed"
    },
    "tags": []
   },
   "outputs": [],
   "source": [
    "import pickle\n",
    "# Dump the trained Naive Bayes classifier with Pickle\n",
    "NB_pkl_filename = 'NBClassifier.pkl'\n",
    "# Open the file to save as pkl file\n",
    "NB_Model_pkl = open(NB_pkl_filename, 'wb')\n",
    "pickle.dump(NaiveBayes, NB_Model_pkl)\n",
    "# Close the pickle instances\n",
    "NB_Model_pkl.close()"
   ]
  },
  {
   "cell_type": "markdown",
   "metadata": {
    "papermill": {
     "duration": 0.042554,
     "end_time": "2022-01-19T05:43:06.408062",
     "exception": false,
     "start_time": "2022-01-19T05:43:06.365508",
     "status": "completed"
    },
    "tags": []
   },
   "source": [
    "# Support Vector Machine (SVM)"
   ]
  },
  {
   "cell_type": "code",
   "execution_count": 28,
   "metadata": {
    "execution": {
     "iopub.execute_input": "2022-01-19T05:43:06.502058Z",
     "iopub.status.busy": "2022-01-19T05:43:06.501316Z",
     "iopub.status.idle": "2022-01-19T05:43:06.908550Z",
     "shell.execute_reply": "2022-01-19T05:43:06.907970Z"
    },
    "papermill": {
     "duration": 0.458083,
     "end_time": "2022-01-19T05:43:06.908677",
     "exception": false,
     "start_time": "2022-01-19T05:43:06.450594",
     "status": "completed"
    },
    "tags": []
   },
   "outputs": [
    {
     "name": "stdout",
     "output_type": "stream",
     "text": [
      "SVM's Accuracy is:  0.7911111111111111\n",
      "              precision    recall  f1-score   support\n",
      "\n",
      "      cotton       1.00      0.67      0.80       607\n",
      "       maize       0.62      1.00      0.76       604\n",
      "        rice       1.00      0.70      0.83       589\n",
      "\n",
      "    accuracy                           0.79      1800\n",
      "   macro avg       0.87      0.79      0.80      1800\n",
      "weighted avg       0.87      0.79      0.80      1800\n",
      "\n"
     ]
    }
   ],
   "source": [
    "from sklearn.svm import SVC\n",
    "\n",
    "SVM = SVC(gamma='auto')\n",
    "\n",
    "SVM.fit(Xtrain,Ytrain)\n",
    "\n",
    "predicted_values = SVM.predict(Xtest)\n",
    "\n",
    "x = metrics.accuracy_score(Ytest, predicted_values)\n",
    "acc.append(x)\n",
    "model.append('SVM')\n",
    "print(\"SVM's Accuracy is: \", x)\n",
    "\n",
    "print(classification_report(Ytest,predicted_values))"
   ]
  },
  {
   "cell_type": "code",
   "execution_count": 29,
   "metadata": {
    "execution": {
     "iopub.execute_input": "2022-01-19T05:43:07.004875Z",
     "iopub.status.busy": "2022-01-19T05:43:07.004229Z",
     "iopub.status.idle": "2022-01-19T05:43:08.802385Z",
     "shell.execute_reply": "2022-01-19T05:43:08.802860Z"
    },
    "papermill": {
     "duration": 1.849917,
     "end_time": "2022-01-19T05:43:08.803004",
     "exception": false,
     "start_time": "2022-01-19T05:43:06.953087",
     "status": "completed"
    },
    "tags": []
   },
   "outputs": [
    {
     "data": {
      "text/plain": [
       "array([0.77833333, 0.76222222, 0.76611111, 0.78444444, 0.77166667])"
      ]
     },
     "execution_count": 29,
     "metadata": {},
     "output_type": "execute_result"
    }
   ],
   "source": [
    "# Cross validation score (SVM)\n",
    "score = cross_val_score(SVM,features,target,cv=5)\n",
    "score"
   ]
  },
  {
   "cell_type": "markdown",
   "metadata": {
    "papermill": {
     "duration": 0.044005,
     "end_time": "2022-01-19T05:43:08.902449",
     "exception": false,
     "start_time": "2022-01-19T05:43:08.858444",
     "status": "completed"
    },
    "tags": []
   },
   "source": [
    "# Logistic Regression"
   ]
  },
  {
   "cell_type": "code",
   "execution_count": 30,
   "metadata": {
    "execution": {
     "iopub.execute_input": "2022-01-19T05:43:09.005272Z",
     "iopub.status.busy": "2022-01-19T05:43:09.004280Z",
     "iopub.status.idle": "2022-01-19T05:43:09.440693Z",
     "shell.execute_reply": "2022-01-19T05:43:09.441336Z"
    },
    "papermill": {
     "duration": 0.484795,
     "end_time": "2022-01-19T05:43:09.441513",
     "exception": false,
     "start_time": "2022-01-19T05:43:08.956718",
     "status": "completed"
    },
    "tags": []
   },
   "outputs": [
    {
     "name": "stdout",
     "output_type": "stream",
     "text": [
      "Logistic Regression's Accuracy is:  1.0\n",
      "              precision    recall  f1-score   support\n",
      "\n",
      "      cotton       1.00      1.00      1.00       607\n",
      "       maize       1.00      1.00      1.00       604\n",
      "        rice       1.00      1.00      1.00       589\n",
      "\n",
      "    accuracy                           1.00      1800\n",
      "   macro avg       1.00      1.00      1.00      1800\n",
      "weighted avg       1.00      1.00      1.00      1800\n",
      "\n"
     ]
    }
   ],
   "source": [
    "from sklearn.linear_model import LogisticRegression\n",
    "\n",
    "LogReg = LogisticRegression(random_state=2)\n",
    "\n",
    "LogReg.fit(Xtrain,Ytrain)\n",
    "\n",
    "predicted_values = LogReg.predict(Xtest)\n",
    "\n",
    "x = metrics.accuracy_score(Ytest, predicted_values)\n",
    "acc.append(x)\n",
    "model.append('Logistic Regression')\n",
    "print(\"Logistic Regression's Accuracy is: \", x)\n",
    "\n",
    "print(classification_report(Ytest,predicted_values))"
   ]
  },
  {
   "cell_type": "code",
   "execution_count": 31,
   "metadata": {
    "execution": {
     "iopub.execute_input": "2022-01-19T05:43:09.537194Z",
     "iopub.status.busy": "2022-01-19T05:43:09.536171Z",
     "iopub.status.idle": "2022-01-19T05:43:11.070990Z",
     "shell.execute_reply": "2022-01-19T05:43:11.070473Z"
    },
    "papermill": {
     "duration": 1.584202,
     "end_time": "2022-01-19T05:43:11.071109",
     "exception": false,
     "start_time": "2022-01-19T05:43:09.486907",
     "status": "completed"
    },
    "tags": []
   },
   "outputs": [
    {
     "data": {
      "text/plain": [
       "array([1., 1., 1., 1., 1.])"
      ]
     },
     "execution_count": 31,
     "metadata": {},
     "output_type": "execute_result"
    }
   ],
   "source": [
    "# Cross validation score (Logistic Regression)\n",
    "score = cross_val_score(LogReg,features,target,cv=5)\n",
    "score"
   ]
  },
  {
   "cell_type": "markdown",
   "metadata": {
    "papermill": {
     "duration": 0.044379,
     "end_time": "2022-01-19T05:43:11.160283",
     "exception": false,
     "start_time": "2022-01-19T05:43:11.115904",
     "status": "completed"
    },
    "tags": []
   },
   "source": [
    "### Saving trained Logistic Regression model"
   ]
  },
  {
   "cell_type": "code",
   "execution_count": 32,
   "metadata": {
    "execution": {
     "iopub.execute_input": "2022-01-19T05:43:11.253520Z",
     "iopub.status.busy": "2022-01-19T05:43:11.252519Z",
     "iopub.status.idle": "2022-01-19T05:43:11.258068Z",
     "shell.execute_reply": "2022-01-19T05:43:11.258711Z"
    },
    "papermill": {
     "duration": 0.054002,
     "end_time": "2022-01-19T05:43:11.258869",
     "exception": false,
     "start_time": "2022-01-19T05:43:11.204867",
     "status": "completed"
    },
    "tags": []
   },
   "outputs": [],
   "source": [
    "import pickle\n",
    "# Dump the trained Naive Bayes classifier with Pickle\n",
    "LR_pkl_filename = 'LogisticRegression.pkl'\n",
    "# Open the file to save as pkl file\n",
    "LR_Model_pkl = open(DT_pkl_filename, 'wb')\n",
    "pickle.dump(LogReg, LR_Model_pkl)\n",
    "# Close the pickle instances\n",
    "LR_Model_pkl.close()"
   ]
  },
  {
   "cell_type": "markdown",
   "metadata": {
    "papermill": {
     "duration": 0.044439,
     "end_time": "2022-01-19T05:43:11.347958",
     "exception": false,
     "start_time": "2022-01-19T05:43:11.303519",
     "status": "completed"
    },
    "tags": []
   },
   "source": [
    "# Random Forest"
   ]
  },
  {
   "cell_type": "code",
   "execution_count": 33,
   "metadata": {
    "execution": {
     "iopub.execute_input": "2022-01-19T05:43:11.444242Z",
     "iopub.status.busy": "2022-01-19T05:43:11.439880Z",
     "iopub.status.idle": "2022-01-19T05:43:11.590925Z",
     "shell.execute_reply": "2022-01-19T05:43:11.590151Z"
    },
    "papermill": {
     "duration": 0.198284,
     "end_time": "2022-01-19T05:43:11.591096",
     "exception": false,
     "start_time": "2022-01-19T05:43:11.392812",
     "status": "completed"
    },
    "tags": []
   },
   "outputs": [
    {
     "name": "stdout",
     "output_type": "stream",
     "text": [
      "RF's Accuracy is:  1.0\n",
      "              precision    recall  f1-score   support\n",
      "\n",
      "      cotton       1.00      1.00      1.00       607\n",
      "       maize       1.00      1.00      1.00       604\n",
      "        rice       1.00      1.00      1.00       589\n",
      "\n",
      "    accuracy                           1.00      1800\n",
      "   macro avg       1.00      1.00      1.00      1800\n",
      "weighted avg       1.00      1.00      1.00      1800\n",
      "\n"
     ]
    }
   ],
   "source": [
    "from sklearn.ensemble import RandomForestClassifier\n",
    "\n",
    "RF = RandomForestClassifier(n_estimators=20, random_state=0)\n",
    "RF.fit(Xtrain,Ytrain)\n",
    "\n",
    "predicted_values = RF.predict(Xtest)\n",
    "\n",
    "x = metrics.accuracy_score(Ytest, predicted_values)\n",
    "acc.append(x)\n",
    "model.append('RF')\n",
    "print(\"RF's Accuracy is: \", x)\n",
    "\n",
    "print(classification_report(Ytest,predicted_values))"
   ]
  },
  {
   "cell_type": "code",
   "execution_count": 34,
   "metadata": {
    "execution": {
     "iopub.execute_input": "2022-01-19T05:43:11.690705Z",
     "iopub.status.busy": "2022-01-19T05:43:11.689929Z",
     "iopub.status.idle": "2022-01-19T05:43:12.181176Z",
     "shell.execute_reply": "2022-01-19T05:43:12.180538Z"
    },
    "papermill": {
     "duration": 0.541347,
     "end_time": "2022-01-19T05:43:12.181295",
     "exception": false,
     "start_time": "2022-01-19T05:43:11.639948",
     "status": "completed"
    },
    "tags": []
   },
   "outputs": [
    {
     "data": {
      "text/plain": [
       "array([1.        , 0.99944444, 1.        , 1.        , 1.        ])"
      ]
     },
     "execution_count": 34,
     "metadata": {},
     "output_type": "execute_result"
    }
   ],
   "source": [
    "# Cross validation score (Random Forest)\n",
    "score = cross_val_score(RF,features,target,cv=5)\n",
    "score"
   ]
  },
  {
   "cell_type": "markdown",
   "metadata": {
    "papermill": {
     "duration": 0.04668,
     "end_time": "2022-01-19T05:43:12.273949",
     "exception": false,
     "start_time": "2022-01-19T05:43:12.227269",
     "status": "completed"
    },
    "tags": []
   },
   "source": [
    "### Saving trained Random Forest model"
   ]
  },
  {
   "cell_type": "code",
   "execution_count": 35,
   "metadata": {
    "execution": {
     "iopub.execute_input": "2022-01-19T05:43:12.375241Z",
     "iopub.status.busy": "2022-01-19T05:43:12.374576Z",
     "iopub.status.idle": "2022-01-19T05:43:12.378494Z",
     "shell.execute_reply": "2022-01-19T05:43:12.377941Z"
    },
    "papermill": {
     "duration": 0.057739,
     "end_time": "2022-01-19T05:43:12.378609",
     "exception": false,
     "start_time": "2022-01-19T05:43:12.320870",
     "status": "completed"
    },
    "tags": []
   },
   "outputs": [],
   "source": [
    "import pickle\n",
    "# Dump the trained Naive Bayes classifier with Pickle\n",
    "RF_pkl_filename = 'RandomForest_South.pkl'\n",
    "# Open the file to save as pkl file\n",
    "RF_Model_pkl = open(RF_pkl_filename, 'wb')\n",
    "pickle.dump(RF, RF_Model_pkl)\n",
    "# Close the pickle instances\n",
    "RF_Model_pkl.close()"
   ]
  },
  {
   "cell_type": "markdown",
   "metadata": {
    "papermill": {
     "duration": 0.046181,
     "end_time": "2022-01-19T05:43:12.470853",
     "exception": false,
     "start_time": "2022-01-19T05:43:12.424672",
     "status": "completed"
    },
    "tags": []
   },
   "source": [
    "# XGBoost"
   ]
  },
  {
   "cell_type": "code",
   "execution_count": 36,
   "metadata": {},
   "outputs": [
    {
     "name": "stdout",
     "output_type": "stream",
     "text": [
      "XGBoost's Accuracy is:  0.9994444444444445\n",
      "              precision    recall  f1-score   support\n",
      "\n",
      "           0       1.00      1.00      1.00       607\n",
      "           1       1.00      1.00      1.00       604\n",
      "           2       1.00      1.00      1.00       589\n",
      "\n",
      "    accuracy                           1.00      1800\n",
      "   macro avg       1.00      1.00      1.00      1800\n",
      "weighted avg       1.00      1.00      1.00      1800\n",
      "\n"
     ]
    }
   ],
   "source": [
    "from sklearn.preprocessing import LabelEncoder\n",
    "import xgboost as xgb\n",
    "\n",
    "# Initialize LabelEncoder\n",
    "label_encoder = LabelEncoder()\n",
    "\n",
    "# Fit LabelEncoder on the target variable\n",
    "label_encoder.fit(Ytrain)\n",
    "\n",
    "# Transform both Ytrain and Ytest\n",
    "Ytrain_encoded = label_encoder.transform(Ytrain)\n",
    "Ytest_encoded = label_encoder.transform(Ytest)\n",
    "\n",
    "# Now train your XGBoost classifier\n",
    "XB = xgb.XGBClassifier()\n",
    "XB.fit(Xtrain, Ytrain_encoded)\n",
    "\n",
    "# Predict using the trained model\n",
    "predicted_values = XB.predict(Xtest)\n",
    "\n",
    "# Calculate accuracy\n",
    "x = metrics.accuracy_score(Ytest_encoded, predicted_values)\n",
    "acc.append(x)\n",
    "model.append('XGBoost')\n",
    "print(\"XGBoost's Accuracy is: \", x)\n",
    "\n",
    "# Print classification report\n",
    "print(classification_report(Ytest_encoded, predicted_values))\n"
   ]
  },
  {
   "cell_type": "code",
   "execution_count": 37,
   "metadata": {
    "execution": {
     "iopub.execute_input": "2022-01-19T05:43:12.569952Z",
     "iopub.status.busy": "2022-01-19T05:43:12.568949Z",
     "iopub.status.idle": "2022-01-19T05:43:14.054441Z",
     "shell.execute_reply": "2022-01-19T05:43:14.056219Z"
    },
    "papermill": {
     "duration": 1.539877,
     "end_time": "2022-01-19T05:43:14.056679",
     "exception": false,
     "start_time": "2022-01-19T05:43:12.516802",
     "status": "completed"
    },
    "scrolled": true,
    "tags": []
   },
   "outputs": [
    {
     "name": "stdout",
     "output_type": "stream",
     "text": [
      "XGBoost's Accuracy is: 0.9994444444444445\n",
      "              precision    recall  f1-score   support\n",
      "\n",
      "      cotton       1.00      1.00      1.00       607\n",
      "       maize       1.00      1.00      1.00       604\n",
      "        rice       1.00      1.00      1.00       589\n",
      "\n",
      "    accuracy                           1.00      1800\n",
      "   macro avg       1.00      1.00      1.00      1800\n",
      "weighted avg       1.00      1.00      1.00      1800\n",
      "\n"
     ]
    }
   ],
   "source": [
    "from sklearn.preprocessing import LabelEncoder\n",
    "\n",
    "# Initialize LabelEncoder\n",
    "label_encoder = LabelEncoder()\n",
    "\n",
    "# Encode the target variable\n",
    "Ytrain_encoded = label_encoder.fit_transform(Ytrain)\n",
    "\n",
    "# Initialize and train XGBoost classifier\n",
    "XB = xgb.XGBClassifier()\n",
    "XB.fit(Xtrain, Ytrain_encoded)\n",
    "\n",
    "# Predict on test data\n",
    "predicted_values_encoded = XB.predict(Xtest)\n",
    "\n",
    "# Decode the predicted values back to original labels\n",
    "predicted_values = label_encoder.inverse_transform(predicted_values_encoded)\n",
    "\n",
    "# Calculate accuracy\n",
    "accuracy = metrics.accuracy_score(Ytest, predicted_values)\n",
    "print(\"XGBoost's Accuracy is:\", accuracy)\n",
    "\n",
    "# Print classification report\n",
    "print(classification_report(Ytest, predicted_values))\n"
   ]
  },
  {
   "cell_type": "markdown",
   "metadata": {
    "papermill": {
     "duration": 0.047575,
     "end_time": "2022-01-19T05:43:17.046191",
     "exception": false,
     "start_time": "2022-01-19T05:43:16.998616",
     "status": "completed"
    },
    "tags": []
   },
   "source": [
    "## Accuracy Comparison"
   ]
  },
  {
   "cell_type": "code",
   "execution_count": 38,
   "metadata": {
    "execution": {
     "iopub.execute_input": "2022-01-19T05:43:17.145965Z",
     "iopub.status.busy": "2022-01-19T05:43:17.145243Z",
     "iopub.status.idle": "2022-01-19T05:43:17.313434Z",
     "shell.execute_reply": "2022-01-19T05:43:17.313923Z"
    },
    "papermill": {
     "duration": 0.219581,
     "end_time": "2022-01-19T05:43:17.314085",
     "exception": false,
     "start_time": "2022-01-19T05:43:17.094504",
     "status": "completed"
    },
    "tags": []
   },
   "outputs": [
    {
     "data": {
      "text/plain": [
       "<AxesSubplot: title={'center': 'Accuracy Comparison'}, xlabel='Accuracy', ylabel='Algorithm'>"
      ]
     },
     "execution_count": 38,
     "metadata": {},
     "output_type": "execute_result"
    },
    {
     "data": {
      "image/png": "[encoded data removed]",
      "text/plain": [
       "<Figure size 1000x500 with 1 Axes>"
      ]
     },
     "metadata": {},
     "output_type": "display_data"
    }
   ],
   "source": [
    "plt.figure(figsize=[10,5],dpi = 100)\n",
    "plt.title('Accuracy Comparison')\n",
    "plt.xlabel('Accuracy')\n",
    "plt.ylabel('Algorithm')\n",
    "sns.barplot(x = acc,y = model,palette='dark')"
   ]
  },
  {
   "cell_type": "code",
   "execution_count": 39,
   "metadata": {
    "execution": {
     "iopub.execute_input": "2022-01-19T05:43:17.420951Z",
     "iopub.status.busy": "2022-01-19T05:43:17.420254Z",
     "iopub.status.idle": "2022-01-19T05:43:17.423129Z",
     "shell.execute_reply": "2022-01-19T05:43:17.423801Z"
    },
    "papermill": {
     "duration": 0.059955,
     "end_time": "2022-01-19T05:43:17.423964",
     "exception": false,
     "start_time": "2022-01-19T05:43:17.364009",
     "status": "completed"
    },
    "tags": []
   },
   "outputs": [
    {
     "name": "stdout",
     "output_type": "stream",
     "text": [
      "Decision Tree --> 1.0\n",
      "Naive Bayes --> 1.0\n",
      "SVM --> 0.7911111111111111\n",
      "Logistic Regression --> 1.0\n",
      "RF --> 1.0\n",
      "XGBoost --> 0.9994444444444445\n"
     ]
    }
   ],
   "source": [
    "accuracy_models = dict(zip(model, acc))\n",
    "for k, v in accuracy_models.items():\n",
    "    print (k, '-->', v)"
   ]
  },
  {
   "cell_type": "code",
   "execution_count": 40,
   "metadata": {
    "execution": {
     "iopub.execute_input": "2022-01-19T05:43:17.624603Z",
     "iopub.status.busy": "2022-01-19T05:43:17.623879Z",
     "iopub.status.idle": "2022-01-19T05:43:17.632695Z",
     "shell.execute_reply": "2022-01-19T05:43:17.633186Z"
    },
    "papermill": {
     "duration": 0.061397,
     "end_time": "2022-01-19T05:43:17.633348",
     "exception": false,
     "start_time": "2022-01-19T05:43:17.571951",
     "status": "completed"
    },
    "tags": []
   },
   "outputs": [
    {
     "name": "stdout",
     "output_type": "stream",
     "text": [
      "['rice']\n"
     ]
    }
   ],
   "source": [
    "data = np.array([[104,18, 30, 23.603016, 60.3, 6.7, 140.91]])\n",
    "prediction = RF.predict(data)\n",
    "print(prediction)"
   ]
  },
  {
   "cell_type": "code",
   "execution_count": 41,
   "metadata": {},
   "outputs": [
    {
     "name": "stdout",
     "output_type": "stream",
     "text": [
      "['maize']\n"
     ]
    }
   ],
   "source": [
    "data = np.array([[90,42, 43, 20, 82, 6.5, 140.91]])\n",
    "prediction = RF.predict(data)\n",
    "print(prediction)"
   ]
  }
 ],
 "metadata": {
  "kernelspec": {
   "display_name": "Python 3",
   "language": "python",
   "name": "python3"
  },
  "language_info": {
   "codemirror_mode": {
    "name": "ipython",
    "version": 3
   },
   "file_extension": ".py",
   "mimetype": "text/x-python",
   "name": "python",
   "nbconvert_exporter": "python",
   "pygments_lexer": "ipython3",
   "version": "3.9.10"
  },
  "papermill": {
   "duration": 21.35152,
   "end_time": "2022-01-19T05:43:18.107695",
   "environment_variables": {},
   "exception": null,
   "input_path": "__notebook__.ipynb",
   "output_path": "__notebook__.ipynb",
   "parameters": {},
   "start_time": "2022-01-19T05:42:56.756175",
   "version": "2.1.0"
  }
 },
 "nbformat": 4,
 "nbformat_minor": 4
}
